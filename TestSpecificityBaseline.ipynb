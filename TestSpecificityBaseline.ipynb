{
 "cells": [
  {
   "cell_type": "markdown",
   "metadata": {
    "colab_type": "text",
    "id": "Zx9jZiM9qAA2"
   },
   "source": [
    "# Baseline test for Image Specificity"
   ]
  },
  {
   "cell_type": "markdown",
   "metadata": {
    "colab_type": "text",
    "id": "-QhOK5qwqJiF"
   },
   "source": [
    "## Colab Specific Setup"
   ]
  },
  {
   "cell_type": "code",
   "execution_count": 0,
   "metadata": {
    "colab": {},
    "colab_type": "code",
    "id": "v64Au5-IGgQ7"
   },
   "outputs": [],
   "source": [
    "from google.colab import drive\n",
    "drive.mount(\"/content/gdrive\")"
   ]
  },
  {
   "cell_type": "code",
   "execution_count": 0,
   "metadata": {
    "colab": {},
    "colab_type": "code",
    "id": "OUggOdsLGgx_"
   },
   "outputs": [],
   "source": [
    "!git clone https://github.com/jasmainak/specificity.git"
   ]
  },
  {
   "cell_type": "markdown",
   "metadata": {
    "colab_type": "text",
    "id": "OMobJT0xqTam"
   },
   "source": [
    "## Feature Extraction\n"
   ]
  },
  {
   "cell_type": "code",
   "execution_count": 1,
   "metadata": {
    "colab": {},
    "colab_type": "code",
    "id": "qA5F5RGr5To9"
   },
   "outputs": [],
   "source": [
    "import torch\n",
    "import torchvision\n",
    "import numpy as np\n",
    "import pandas as pd\n",
    "from sklearn.svm import SVR\n",
    "from torchvision.models import vgg16\n",
    "from torch import nn as nn\n",
    "from torchvision import transforms\n",
    "from torchvision import utils\n",
    "from torch.utils.data import Dataset, DataLoader\n",
    "from imageio import imread\n",
    "from scipy.io import loadmat\n",
    "import os\n",
    "from tqdm import tqdm_notebook as tqdm"
   ]
  },
  {
   "cell_type": "code",
   "execution_count": 2,
   "metadata": {
    "colab": {},
    "colab_type": "code",
    "id": "hrk34VA7qakN"
   },
   "outputs": [],
   "source": [
    "device = torch.device(\"cuda:0\") if torch.cuda.is_available() else torch.device(\"cpu\")"
   ]
  },
  {
   "cell_type": "code",
   "execution_count": 3,
   "metadata": {
    "colab": {},
    "colab_type": "code",
    "id": "Usoz-ZbQO5B4"
   },
   "outputs": [],
   "source": [
    "data_path = \"./data/\"\n",
    "drive_path = \"/content/gdrive/My Drive/data/\""
   ]
  },
  {
   "cell_type": "code",
   "execution_count": 4,
   "metadata": {
    "colab": {},
    "colab_type": "code",
    "id": "b4Fc-ovwq98c"
   },
   "outputs": [],
   "source": [
    "dataset = \"pascal\""
   ]
  },
  {
   "cell_type": "code",
   "execution_count": 5,
   "metadata": {
    "colab": {},
    "colab_type": "code",
    "id": "5Dm404jLPQTY"
   },
   "outputs": [],
   "source": [
    "class SpecificityDataset(Dataset):\n",
    "    \"\"\"Dataset class for the Pascal Dataset\"\"\"\n",
    "    \n",
    "    def __init__(self, image_dir, dataset, data_mat, transform=None):\n",
    "        self.transform = transform\n",
    "        self.image_dir = image_dir\n",
    "        if (not dataset) or (not data_mat):\n",
    "            raise ValueError(\"Dataset or Data Matrix not found\")\n",
    "        self.dataset = dataset\n",
    "        if dataset == \"memorability\":\n",
    "            self.files = sorted(os.listdir(self.image_dir), key=lambda x:int(x.split(\"_\")[1].split(\".\")[0]))\n",
    "        else:\n",
    "            self.files = sorted(os.listdir(self.image_dir))\n",
    "        self.scores = data_mat['specificity'][0][dataset][0]['mean'][0][0]\n",
    "        \n",
    "    def __len__(self):\n",
    "        return len(os.listdir(self.image_dir))\n",
    "    \n",
    "    def __getitem__(self, idx):        \n",
    "        image_file = self.files[idx]\n",
    "        image = np.asarray(imread(self.image_dir+\"/\"+image_file))        \n",
    "        if self.transform:\n",
    "            image = self.transform(image)            \n",
    "        sample = {\"image\": image, \"score\": self.scores[idx], \"file\":image_file}\n",
    "        return sample"
   ]
  },
  {
   "cell_type": "code",
   "execution_count": 6,
   "metadata": {
    "colab": {},
    "colab_type": "code",
    "id": "no7eGsmCU-e_"
   },
   "outputs": [],
   "source": [
    "transformed_dataset = SpecificityDataset(\n",
    "    image_dir=data_path+\"images/{}/\".format(dataset),\n",
    "    dataset = dataset,\n",
    "    data_mat = loadmat(data_path+\"/specificity_alldatasets.mat\"),\n",
    "    transform=transforms.Compose([\n",
    "        transforms.ToPILImage(),\n",
    "        transforms.Resize(256),\n",
    "        transforms.RandomCrop(224),        \n",
    "        transforms.ToTensor(),\n",
    "        transforms.Normalize(\n",
    "            mean=[0.485, 0.456, 0.406],\n",
    "            std=[0.229, 0.224, 0.225]\n",
    "        )\n",
    "    ])\n",
    ")"
   ]
  },
  {
   "cell_type": "code",
   "execution_count": 7,
   "metadata": {
    "colab": {},
    "colab_type": "code",
    "id": "FoTr1ny4Vo2X"
   },
   "outputs": [],
   "source": [
    "dataloader = DataLoader(transformed_dataset, batch_size=10,\n",
    "                        shuffle=True)"
   ]
  },
  {
   "cell_type": "code",
   "execution_count": 0,
   "metadata": {
    "colab": {},
    "colab_type": "code",
    "id": "6XXnPb7Zb_yU"
   },
   "outputs": [],
   "source": [
    "vgg = vgg16(pretrained=True).features.to(device)"
   ]
  },
  {
   "cell_type": "code",
   "execution_count": 0,
   "metadata": {
    "colab": {},
    "colab_type": "code",
    "id": "t2Rg52vMWVJk"
   },
   "outputs": [],
   "source": [
    "images = None\n",
    "scores = []\n",
    "files = []\n",
    "onlyonce = False\n",
    "with torch.no_grad():\n",
    "    for batch in tqdm(dataloader):\n",
    "        out = vgg(batch['image'].to(device)).cpu().numpy()\n",
    "        second_dim = out.shape[1]*out.shape[2]*out.shape[3]\n",
    "        out = out.reshape(out.shape[0],second_dim)\n",
    "        if type(images) == type(None):\n",
    "            images = out\n",
    "        else:\n",
    "            images = np.append(images, out, axis=0)\n",
    "        scores.extend([float(bat) for bat in batch['score']])\n",
    "        files.extend(batch['file'])\n",
    "\n",
    "        batch = None\n",
    "        out = None\n",
    "        if onlyonce:\n",
    "            break"
   ]
  },
  {
   "cell_type": "code",
   "execution_count": 0,
   "metadata": {
    "colab": {},
    "colab_type": "code",
    "id": "0AQdDWs4XqBO"
   },
   "outputs": [],
   "source": [
    "results = {\"images\":images, \"scores\": scores, \"filenames\":files}"
   ]
  },
  {
   "cell_type": "code",
   "execution_count": 8,
   "metadata": {
    "colab": {},
    "colab_type": "code",
    "id": "46ug8L31aKDD"
   },
   "outputs": [],
   "source": [
    "import pickle"
   ]
  },
  {
   "cell_type": "code",
   "execution_count": 0,
   "metadata": {
    "colab": {},
    "colab_type": "code",
    "id": "BfjbLLywd6Uw"
   },
   "outputs": [],
   "source": [
    "with open(drive_path+\"{}_features.pickle\".format(dataset), \"wb\") as pkl:\n",
    "    pickle.dump(results, pkl)"
   ]
  },
  {
   "cell_type": "markdown",
   "metadata": {
    "colab_type": "text",
    "id": "NeFoLPIXeZ7G"
   },
   "source": [
    "## Support-Vector Regression\n",
    "\n"
   ]
  },
  {
   "cell_type": "code",
   "execution_count": 9,
   "metadata": {
    "colab": {},
    "colab_type": "code",
    "id": "Do7-nUT2rb0F"
   },
   "outputs": [],
   "source": [
    "from sklearn.svm import SVR\n",
    "from sklearn.model_selection import train_test_split\n",
    "from sklearn.model_selection import GridSearchCV\n",
    "from sklearn.metrics import make_scorer\n",
    "from random import randint\n",
    "from scipy.stats import spearmanr\n",
    "from matplotlib import pyplot as plt\n",
    "%matplotlib inline"
   ]
  },
  {
   "cell_type": "code",
   "execution_count": 10,
   "metadata": {
    "colab": {},
    "colab_type": "code",
    "id": "tPuvUPaFtleQ"
   },
   "outputs": [],
   "source": [
    "train_dataset = \"pascal\""
   ]
  },
  {
   "cell_type": "code",
   "execution_count": 11,
   "metadata": {
    "colab": {},
    "colab_type": "code",
    "id": "xnPJ6JFawcrg"
   },
   "outputs": [],
   "source": [
    "with open(\"{}_features.pickle\".format(train_dataset), \"rb\") as pkl:\n",
    "    data = pickle.load(pkl)"
   ]
  },
  {
   "cell_type": "code",
   "execution_count": 12,
   "metadata": {
    "colab": {},
    "colab_type": "code",
    "id": "MBtZZRFBwyb5"
   },
   "outputs": [],
   "source": [
    "SPLIT_SEED = 42 # for test consistency"
   ]
  },
  {
   "cell_type": "code",
   "execution_count": 13,
   "metadata": {
    "colab": {},
    "colab_type": "code",
    "id": "Xwp8P5091W7E"
   },
   "outputs": [],
   "source": [
    "file_train, file_test, image_train, image_test, score_train, score_test = \\\n",
    "train_test_split(\n",
    "    data['filenames'], data['images'], data['scores'],\n",
    "    test_size = 0.2,\n",
    "    random_state = SPLIT_SEED\n",
    ")"
   ]
  },
  {
   "cell_type": "code",
   "execution_count": 141,
   "metadata": {},
   "outputs": [],
   "source": [
    "def spearman_loss(y_pred, y_test):\n",
    "    return spearmanr(y_pred, y_test).correlation"
   ]
  },
  {
   "cell_type": "code",
   "execution_count": 177,
   "metadata": {
    "colab": {},
    "colab_type": "code",
    "id": "zBdD12Vd9QwH"
   },
   "outputs": [],
   "source": [
    "gammas = [1/(image_train[0].shape[0]*i) for i in range(1,11)]\n",
    "param_grid = {'gamma' : gammas}\n",
    "grid_search = GridSearchCV(\n",
    "    SVR(gamma=\"scale\"),\n",
    "    param_grid=param_grid,\n",
    "    scoring=make_scorer(spearman_loss, greater_is_better=True),\n",
    "    iid=False,\n",
    "    cv=5\n",
    ")   "
   ]
  },
  {
   "cell_type": "code",
   "execution_count": 178,
   "metadata": {
    "colab": {},
    "colab_type": "code",
    "id": "Dc9fznn9EMA7"
   },
   "outputs": [
    {
     "data": {
      "text/plain": [
       "GridSearchCV(cv=5, error_score='raise-deprecating',\n",
       "             estimator=SVR(C=1.0, cache_size=200, coef0=0.0, degree=3,\n",
       "                           epsilon=0.1, gamma='scale', kernel='rbf',\n",
       "                           max_iter=-1, shrinking=True, tol=0.001,\n",
       "                           verbose=False),\n",
       "             iid=False, n_jobs=None,\n",
       "             param_grid={'C': [1],\n",
       "                         'gamma': [3.985969387755102e-05, 1.992984693877551e-05,\n",
       "                                   1.328656462585034e-05, 9.964923469387754e-06,\n",
       "                                   7.971938775510205e-06, 6.64328231292517e-06,\n",
       "                                   5.6942419825072885e-06,\n",
       "                                   4.982461734693877e-06, 4.428854875283447e-06,\n",
       "                                   3.985969387755102e-06]},\n",
       "             pre_dispatch='2*n_jobs', refit=True, return_train_score=False,\n",
       "             scoring=make_scorer(spearman_loss), verbose=0)"
      ]
     },
     "execution_count": 178,
     "metadata": {},
     "output_type": "execute_result"
    }
   ],
   "source": [
    "grid_search.fit(data[\"images\"], data['scores'])"
   ]
  },
  {
   "cell_type": "code",
   "execution_count": 179,
   "metadata": {
    "colab": {},
    "colab_type": "code",
    "id": "w1hIU9lE2r1u"
   },
   "outputs": [
    {
     "data": {
      "text/html": [
       "<div>\n",
       "<style scoped>\n",
       "    .dataframe tbody tr th:only-of-type {\n",
       "        vertical-align: middle;\n",
       "    }\n",
       "\n",
       "    .dataframe tbody tr th {\n",
       "        vertical-align: top;\n",
       "    }\n",
       "\n",
       "    .dataframe thead th {\n",
       "        text-align: right;\n",
       "    }\n",
       "</style>\n",
       "<table border=\"1\" class=\"dataframe\">\n",
       "  <thead>\n",
       "    <tr style=\"text-align: right;\">\n",
       "      <th></th>\n",
       "      <th>mean_fit_time</th>\n",
       "      <th>std_fit_time</th>\n",
       "      <th>mean_score_time</th>\n",
       "      <th>std_score_time</th>\n",
       "      <th>param_C</th>\n",
       "      <th>param_gamma</th>\n",
       "      <th>params</th>\n",
       "      <th>split0_test_score</th>\n",
       "      <th>split1_test_score</th>\n",
       "      <th>split2_test_score</th>\n",
       "      <th>split3_test_score</th>\n",
       "      <th>split4_test_score</th>\n",
       "      <th>mean_test_score</th>\n",
       "      <th>std_test_score</th>\n",
       "      <th>rank_test_score</th>\n",
       "    </tr>\n",
       "  </thead>\n",
       "  <tbody>\n",
       "    <tr>\n",
       "      <th>0</th>\n",
       "      <td>6.931262</td>\n",
       "      <td>0.250646</td>\n",
       "      <td>1.688868</td>\n",
       "      <td>0.068412</td>\n",
       "      <td>1</td>\n",
       "      <td>3.98597e-05</td>\n",
       "      <td>{'C': 1, 'gamma': 3.985969387755102e-05}</td>\n",
       "      <td>0.015543</td>\n",
       "      <td>0.012512</td>\n",
       "      <td>-0.025205</td>\n",
       "      <td>-0.031700</td>\n",
       "      <td>0.034519</td>\n",
       "      <td>0.001134</td>\n",
       "      <td>0.025391</td>\n",
       "      <td>10</td>\n",
       "    </tr>\n",
       "    <tr>\n",
       "      <th>1</th>\n",
       "      <td>6.798590</td>\n",
       "      <td>0.110816</td>\n",
       "      <td>1.672751</td>\n",
       "      <td>0.074527</td>\n",
       "      <td>1</td>\n",
       "      <td>1.99298e-05</td>\n",
       "      <td>{'C': 1, 'gamma': 1.992984693877551e-05}</td>\n",
       "      <td>0.019491</td>\n",
       "      <td>-0.021944</td>\n",
       "      <td>-0.039299</td>\n",
       "      <td>0.008715</td>\n",
       "      <td>0.063939</td>\n",
       "      <td>0.006180</td>\n",
       "      <td>0.035719</td>\n",
       "      <td>9</td>\n",
       "    </tr>\n",
       "    <tr>\n",
       "      <th>2</th>\n",
       "      <td>6.100916</td>\n",
       "      <td>0.875012</td>\n",
       "      <td>1.552864</td>\n",
       "      <td>0.271491</td>\n",
       "      <td>1</td>\n",
       "      <td>1.32866e-05</td>\n",
       "      <td>{'C': 1, 'gamma': 1.328656462585034e-05}</td>\n",
       "      <td>0.021994</td>\n",
       "      <td>-0.039043</td>\n",
       "      <td>-0.032374</td>\n",
       "      <td>0.026159</td>\n",
       "      <td>0.069872</td>\n",
       "      <td>0.009322</td>\n",
       "      <td>0.040467</td>\n",
       "      <td>8</td>\n",
       "    </tr>\n",
       "    <tr>\n",
       "      <th>3</th>\n",
       "      <td>6.214245</td>\n",
       "      <td>1.089273</td>\n",
       "      <td>1.661667</td>\n",
       "      <td>0.260623</td>\n",
       "      <td>1</td>\n",
       "      <td>9.96492e-06</td>\n",
       "      <td>{'C': 1, 'gamma': 9.964923469387754e-06}</td>\n",
       "      <td>0.021505</td>\n",
       "      <td>-0.044476</td>\n",
       "      <td>-0.022273</td>\n",
       "      <td>0.023462</td>\n",
       "      <td>0.069128</td>\n",
       "      <td>0.009469</td>\n",
       "      <td>0.039541</td>\n",
       "      <td>7</td>\n",
       "    </tr>\n",
       "    <tr>\n",
       "      <th>4</th>\n",
       "      <td>7.067339</td>\n",
       "      <td>0.916650</td>\n",
       "      <td>1.702199</td>\n",
       "      <td>0.206415</td>\n",
       "      <td>1</td>\n",
       "      <td>7.97194e-06</td>\n",
       "      <td>{'C': 1, 'gamma': 7.971938775510205e-06}</td>\n",
       "      <td>0.021902</td>\n",
       "      <td>-0.044034</td>\n",
       "      <td>-0.017310</td>\n",
       "      <td>0.032300</td>\n",
       "      <td>0.070317</td>\n",
       "      <td>0.012635</td>\n",
       "      <td>0.039769</td>\n",
       "      <td>6</td>\n",
       "    </tr>\n",
       "    <tr>\n",
       "      <th>5</th>\n",
       "      <td>5.398871</td>\n",
       "      <td>0.188105</td>\n",
       "      <td>1.300235</td>\n",
       "      <td>0.068510</td>\n",
       "      <td>1</td>\n",
       "      <td>6.64328e-06</td>\n",
       "      <td>{'C': 1, 'gamma': 6.64328231292517e-06}</td>\n",
       "      <td>0.019847</td>\n",
       "      <td>-0.045352</td>\n",
       "      <td>-0.015032</td>\n",
       "      <td>0.036428</td>\n",
       "      <td>0.069861</td>\n",
       "      <td>0.013151</td>\n",
       "      <td>0.040049</td>\n",
       "      <td>5</td>\n",
       "    </tr>\n",
       "    <tr>\n",
       "      <th>6</th>\n",
       "      <td>6.681744</td>\n",
       "      <td>0.844912</td>\n",
       "      <td>1.790646</td>\n",
       "      <td>0.166912</td>\n",
       "      <td>1</td>\n",
       "      <td>5.69424e-06</td>\n",
       "      <td>{'C': 1, 'gamma': 5.6942419825072885e-06}</td>\n",
       "      <td>0.021271</td>\n",
       "      <td>-0.047388</td>\n",
       "      <td>-0.011805</td>\n",
       "      <td>0.043059</td>\n",
       "      <td>0.070656</td>\n",
       "      <td>0.015158</td>\n",
       "      <td>0.041315</td>\n",
       "      <td>2</td>\n",
       "    </tr>\n",
       "    <tr>\n",
       "      <th>7</th>\n",
       "      <td>6.262911</td>\n",
       "      <td>1.000863</td>\n",
       "      <td>1.505757</td>\n",
       "      <td>0.258287</td>\n",
       "      <td>1</td>\n",
       "      <td>4.98246e-06</td>\n",
       "      <td>{'C': 1, 'gamma': 4.982461734693877e-06}</td>\n",
       "      <td>0.020626</td>\n",
       "      <td>-0.048753</td>\n",
       "      <td>-0.008501</td>\n",
       "      <td>0.044578</td>\n",
       "      <td>0.072083</td>\n",
       "      <td>0.016007</td>\n",
       "      <td>0.041897</td>\n",
       "      <td>1</td>\n",
       "    </tr>\n",
       "    <tr>\n",
       "      <th>8</th>\n",
       "      <td>5.161083</td>\n",
       "      <td>0.082402</td>\n",
       "      <td>1.251570</td>\n",
       "      <td>0.041867</td>\n",
       "      <td>1</td>\n",
       "      <td>4.42885e-06</td>\n",
       "      <td>{'C': 1, 'gamma': 4.428854875283447e-06}</td>\n",
       "      <td>0.019652</td>\n",
       "      <td>-0.048687</td>\n",
       "      <td>-0.007164</td>\n",
       "      <td>0.042708</td>\n",
       "      <td>0.068307</td>\n",
       "      <td>0.014963</td>\n",
       "      <td>0.040443</td>\n",
       "      <td>4</td>\n",
       "    </tr>\n",
       "    <tr>\n",
       "      <th>9</th>\n",
       "      <td>5.124976</td>\n",
       "      <td>0.112840</td>\n",
       "      <td>1.252513</td>\n",
       "      <td>0.026553</td>\n",
       "      <td>1</td>\n",
       "      <td>3.98597e-06</td>\n",
       "      <td>{'C': 1, 'gamma': 3.985969387755102e-06}</td>\n",
       "      <td>0.017889</td>\n",
       "      <td>-0.049167</td>\n",
       "      <td>-0.005828</td>\n",
       "      <td>0.041551</td>\n",
       "      <td>0.071135</td>\n",
       "      <td>0.015116</td>\n",
       "      <td>0.041026</td>\n",
       "      <td>3</td>\n",
       "    </tr>\n",
       "  </tbody>\n",
       "</table>\n",
       "</div>"
      ],
      "text/plain": [
       "   mean_fit_time  std_fit_time  mean_score_time  std_score_time param_C  \\\n",
       "0       6.931262      0.250646         1.688868        0.068412       1   \n",
       "1       6.798590      0.110816         1.672751        0.074527       1   \n",
       "2       6.100916      0.875012         1.552864        0.271491       1   \n",
       "3       6.214245      1.089273         1.661667        0.260623       1   \n",
       "4       7.067339      0.916650         1.702199        0.206415       1   \n",
       "5       5.398871      0.188105         1.300235        0.068510       1   \n",
       "6       6.681744      0.844912         1.790646        0.166912       1   \n",
       "7       6.262911      1.000863         1.505757        0.258287       1   \n",
       "8       5.161083      0.082402         1.251570        0.041867       1   \n",
       "9       5.124976      0.112840         1.252513        0.026553       1   \n",
       "\n",
       "   param_gamma                                     params  split0_test_score  \\\n",
       "0  3.98597e-05   {'C': 1, 'gamma': 3.985969387755102e-05}           0.015543   \n",
       "1  1.99298e-05   {'C': 1, 'gamma': 1.992984693877551e-05}           0.019491   \n",
       "2  1.32866e-05   {'C': 1, 'gamma': 1.328656462585034e-05}           0.021994   \n",
       "3  9.96492e-06   {'C': 1, 'gamma': 9.964923469387754e-06}           0.021505   \n",
       "4  7.97194e-06   {'C': 1, 'gamma': 7.971938775510205e-06}           0.021902   \n",
       "5  6.64328e-06    {'C': 1, 'gamma': 6.64328231292517e-06}           0.019847   \n",
       "6  5.69424e-06  {'C': 1, 'gamma': 5.6942419825072885e-06}           0.021271   \n",
       "7  4.98246e-06   {'C': 1, 'gamma': 4.982461734693877e-06}           0.020626   \n",
       "8  4.42885e-06   {'C': 1, 'gamma': 4.428854875283447e-06}           0.019652   \n",
       "9  3.98597e-06   {'C': 1, 'gamma': 3.985969387755102e-06}           0.017889   \n",
       "\n",
       "   split1_test_score  split2_test_score  split3_test_score  split4_test_score  \\\n",
       "0           0.012512          -0.025205          -0.031700           0.034519   \n",
       "1          -0.021944          -0.039299           0.008715           0.063939   \n",
       "2          -0.039043          -0.032374           0.026159           0.069872   \n",
       "3          -0.044476          -0.022273           0.023462           0.069128   \n",
       "4          -0.044034          -0.017310           0.032300           0.070317   \n",
       "5          -0.045352          -0.015032           0.036428           0.069861   \n",
       "6          -0.047388          -0.011805           0.043059           0.070656   \n",
       "7          -0.048753          -0.008501           0.044578           0.072083   \n",
       "8          -0.048687          -0.007164           0.042708           0.068307   \n",
       "9          -0.049167          -0.005828           0.041551           0.071135   \n",
       "\n",
       "   mean_test_score  std_test_score  rank_test_score  \n",
       "0         0.001134        0.025391               10  \n",
       "1         0.006180        0.035719                9  \n",
       "2         0.009322        0.040467                8  \n",
       "3         0.009469        0.039541                7  \n",
       "4         0.012635        0.039769                6  \n",
       "5         0.013151        0.040049                5  \n",
       "6         0.015158        0.041315                2  \n",
       "7         0.016007        0.041897                1  \n",
       "8         0.014963        0.040443                4  \n",
       "9         0.015116        0.041026                3  "
      ]
     },
     "execution_count": 179,
     "metadata": {},
     "output_type": "execute_result"
    }
   ],
   "source": [
    "pd.DataFrame(grid_search.cv_results_)"
   ]
  },
  {
   "cell_type": "code",
   "execution_count": 168,
   "metadata": {},
   "outputs": [],
   "source": [
    "svr = SVR(gamma=1/image_train[0].shape[0], C=1)"
   ]
  },
  {
   "cell_type": "code",
   "execution_count": 169,
   "metadata": {},
   "outputs": [
    {
     "data": {
      "text/plain": [
       "SVR(C=1, cache_size=200, coef0=0.0, degree=3, epsilon=0.1,\n",
       "    gamma=3.985969387755102e-05, kernel='rbf', max_iter=-1, shrinking=True,\n",
       "    tol=0.001, verbose=False)"
      ]
     },
     "execution_count": 169,
     "metadata": {},
     "output_type": "execute_result"
    }
   ],
   "source": [
    "svr.fit(image_train, score_train)"
   ]
  },
  {
   "cell_type": "code",
   "execution_count": 170,
   "metadata": {},
   "outputs": [],
   "source": [
    "score_pred = svr.predict(image_test)"
   ]
  },
  {
   "cell_type": "code",
   "execution_count": 171,
   "metadata": {},
   "outputs": [],
   "source": [
    "a = spearmanr(score_pred, score_test).correlation"
   ]
  },
  {
   "cell_type": "code",
   "execution_count": 172,
   "metadata": {},
   "outputs": [
    {
     "data": {
      "text/plain": [
       "0.01141228530713268"
      ]
     },
     "execution_count": 172,
     "metadata": {},
     "output_type": "execute_result"
    }
   ],
   "source": [
    "a"
   ]
  }
 ],
 "metadata": {
  "accelerator": "GPU",
  "colab": {
   "collapsed_sections": [],
   "name": "TestSpecificityBaseline.ipynb",
   "private_outputs": true,
   "provenance": [],
   "toc_visible": true,
   "version": "0.3.2"
  },
  "kernelspec": {
   "display_name": "Python 3",
   "language": "python",
   "name": "python3"
  },
  "language_info": {
   "codemirror_mode": {
    "name": "ipython",
    "version": 3
   },
   "file_extension": ".py",
   "mimetype": "text/x-python",
   "name": "python",
   "nbconvert_exporter": "python",
   "pygments_lexer": "ipython3",
   "version": "3.6.5"
  }
 },
 "nbformat": 4,
 "nbformat_minor": 1
}
